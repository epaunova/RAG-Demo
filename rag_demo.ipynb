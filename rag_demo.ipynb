{
 "cells": [
  {
   "cell_type": "markdown",
   "id": "65cc693d",
   "metadata": {},
   "source": [
    "# RAG Demo Notebook\n",
    "This is a skeleton notebook for Eva Paunova.\n"
   ]
  },
  {
   "cell_type": "code",
   "execution_count": null,
   "id": "e883b240",
   "metadata": {},
   "outputs": [],
   "source": [
    "print('Hello RAG')"
   ]
  }
 ],
 "metadata": {},
 "nbformat": 4,
 "nbformat_minor": 5
}
